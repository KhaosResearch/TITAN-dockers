{
 "cells": [
  {
   "cell_type": "code",
   "execution_count": 2,
   "id": "9e72d87e",
   "metadata": {},
   "outputs": [],
   "source": [
    "import pandas as pd\n",
    "import numpy as np\n",
    "import seaborn as sns\n",
    "import matplotlib as plt\n",
    "import sys\n",
    "import base64\n",
    "from io import BytesIO\n",
    "import os"
   ]
  },
  {
   "cell_type": "code",
   "execution_count": 3,
   "id": "db7a76ce",
   "metadata": {},
   "outputs": [
    {
     "data": {
      "text/html": [
       "<div>\n",
       "<style scoped>\n",
       "    .dataframe tbody tr th:only-of-type {\n",
       "        vertical-align: middle;\n",
       "    }\n",
       "\n",
       "    .dataframe tbody tr th {\n",
       "        vertical-align: top;\n",
       "    }\n",
       "\n",
       "    .dataframe thead th {\n",
       "        text-align: right;\n",
       "    }\n",
       "</style>\n",
       "<table border=\"1\" class=\"dataframe\">\n",
       "  <thead>\n",
       "    <tr style=\"text-align: right;\">\n",
       "      <th></th>\n",
       "      <th>Hidrologic Year</th>\n",
       "      <th>Station</th>\n",
       "      <th>Year Mean</th>\n",
       "      <th>Year Maximum</th>\n",
       "      <th>Year minimum</th>\n",
       "      <th>Year Collected Data</th>\n",
       "      <th>Year Empty Data</th>\n",
       "      <th>Year Collected Data (Percentage)</th>\n",
       "      <th>Year Empty Data (Percentage)</th>\n",
       "      <th>Sum of the Year</th>\n",
       "    </tr>\n",
       "  </thead>\n",
       "  <tbody>\n",
       "    <tr>\n",
       "      <th>0</th>\n",
       "      <td>1970/1971</td>\n",
       "      <td>JABUGO</td>\n",
       "      <td>2.770330</td>\n",
       "      <td>84.5</td>\n",
       "      <td>0.0</td>\n",
       "      <td>273</td>\n",
       "      <td>92</td>\n",
       "      <td>74.794521</td>\n",
       "      <td>25.205479</td>\n",
       "      <td>756.3</td>\n",
       "    </tr>\n",
       "    <tr>\n",
       "      <th>1</th>\n",
       "      <td>1971/1972</td>\n",
       "      <td>JABUGO</td>\n",
       "      <td>2.700820</td>\n",
       "      <td>78.3</td>\n",
       "      <td>0.0</td>\n",
       "      <td>366</td>\n",
       "      <td>0</td>\n",
       "      <td>100.000000</td>\n",
       "      <td>0.000000</td>\n",
       "      <td>988.5</td>\n",
       "    </tr>\n",
       "    <tr>\n",
       "      <th>2</th>\n",
       "      <td>1972/1973</td>\n",
       "      <td>JABUGO</td>\n",
       "      <td>2.745753</td>\n",
       "      <td>62.2</td>\n",
       "      <td>0.0</td>\n",
       "      <td>365</td>\n",
       "      <td>0</td>\n",
       "      <td>100.000000</td>\n",
       "      <td>0.000000</td>\n",
       "      <td>1002.2</td>\n",
       "    </tr>\n",
       "    <tr>\n",
       "      <th>3</th>\n",
       "      <td>1973/1974</td>\n",
       "      <td>JABUGO</td>\n",
       "      <td>2.378630</td>\n",
       "      <td>65.2</td>\n",
       "      <td>0.0</td>\n",
       "      <td>365</td>\n",
       "      <td>0</td>\n",
       "      <td>100.000000</td>\n",
       "      <td>0.000000</td>\n",
       "      <td>868.2</td>\n",
       "    </tr>\n",
       "    <tr>\n",
       "      <th>4</th>\n",
       "      <td>1974/1975</td>\n",
       "      <td>JABUGO</td>\n",
       "      <td>2.202466</td>\n",
       "      <td>62.8</td>\n",
       "      <td>0.0</td>\n",
       "      <td>365</td>\n",
       "      <td>0</td>\n",
       "      <td>100.000000</td>\n",
       "      <td>0.000000</td>\n",
       "      <td>803.9</td>\n",
       "    </tr>\n",
       "  </tbody>\n",
       "</table>\n",
       "</div>"
      ],
      "text/plain": [
       "  Hidrologic Year Station  Year Mean  Year Maximum  Year minimum  \\\n",
       "0       1970/1971  JABUGO   2.770330          84.5           0.0   \n",
       "1       1971/1972  JABUGO   2.700820          78.3           0.0   \n",
       "2       1972/1973  JABUGO   2.745753          62.2           0.0   \n",
       "3       1973/1974  JABUGO   2.378630          65.2           0.0   \n",
       "4       1974/1975  JABUGO   2.202466          62.8           0.0   \n",
       "\n",
       "   Year Collected Data  Year Empty Data  Year Collected Data (Percentage)  \\\n",
       "0                  273               92                         74.794521   \n",
       "1                  366                0                        100.000000   \n",
       "2                  365                0                        100.000000   \n",
       "3                  365                0                        100.000000   \n",
       "4                  365                0                        100.000000   \n",
       "\n",
       "   Year Empty Data (Percentage)  Sum of the Year  \n",
       "0                     25.205479            756.3  \n",
       "1                      0.000000            988.5  \n",
       "2                      0.000000           1002.2  \n",
       "3                      0.000000            868.2  \n",
       "4                      0.000000            803.9  "
      ]
     },
     "execution_count": 3,
     "metadata": {},
     "output_type": "execute_result"
    }
   ],
   "source": [
    "data = pd.read_csv(\"data/Precipitation.csv\", sep=\";\")\n",
    "data.head()"
   ]
  },
  {
   "cell_type": "code",
   "execution_count": 4,
   "id": "ccc9d467",
   "metadata": {},
   "outputs": [
    {
     "name": "stdout",
     "output_type": "stream",
     "text": [
      "SHAPEX:  5\n",
      "SHAPEY:  49\n"
     ]
    }
   ],
   "source": [
    "shape_x = len(set(data[\"Station\"]))\n",
    "shape_y = len(set(data[\"Hidrologic Year\"]))\n",
    "print(\"SHAPEX: \", shape_x)\n",
    "print(\"SHAPEY: \", shape_y)"
   ]
  },
  {
   "cell_type": "code",
   "execution_count": 5,
   "id": "efca91f4",
   "metadata": {},
   "outputs": [],
   "source": [
    "square_number = ((np.asarray(data[\"Sum of the Year\"]).round(1)).reshape(shape_y,shape_x))\n",
    "var_number = ((np.asarray(data[\"Year Collected Data (Percentage)\"])).reshape(shape_y,shape_x))"
   ]
  },
  {
   "cell_type": "code",
   "execution_count": 7,
   "id": "a1a4a4e4",
   "metadata": {},
   "outputs": [
    {
     "data": {
      "text/html": [
       "<div>\n",
       "<style scoped>\n",
       "    .dataframe tbody tr th:only-of-type {\n",
       "        vertical-align: middle;\n",
       "    }\n",
       "\n",
       "    .dataframe tbody tr th {\n",
       "        vertical-align: top;\n",
       "    }\n",
       "\n",
       "    .dataframe thead th {\n",
       "        text-align: right;\n",
       "    }\n",
       "</style>\n",
       "<table border=\"1\" class=\"dataframe\">\n",
       "  <thead>\n",
       "    <tr style=\"text-align: right;\">\n",
       "      <th>Station</th>\n",
       "      <th>ALAJAR</th>\n",
       "      <th>ARACENA</th>\n",
       "      <th>CORTEGANA</th>\n",
       "      <th>GALAROZA</th>\n",
       "      <th>JABUGO</th>\n",
       "    </tr>\n",
       "    <tr>\n",
       "      <th>Hidrologic Year</th>\n",
       "      <th></th>\n",
       "      <th></th>\n",
       "      <th></th>\n",
       "      <th></th>\n",
       "      <th></th>\n",
       "    </tr>\n",
       "  </thead>\n",
       "  <tbody>\n",
       "    <tr>\n",
       "      <th>1970/1971</th>\n",
       "      <td>74.794521</td>\n",
       "      <td>74.794521</td>\n",
       "      <td>74.794521</td>\n",
       "      <td>74.794521</td>\n",
       "      <td>74.794521</td>\n",
       "    </tr>\n",
       "    <tr>\n",
       "      <th>1971/1972</th>\n",
       "      <td>100.000000</td>\n",
       "      <td>100.000000</td>\n",
       "      <td>100.000000</td>\n",
       "      <td>100.000000</td>\n",
       "      <td>100.000000</td>\n",
       "    </tr>\n",
       "    <tr>\n",
       "      <th>1972/1973</th>\n",
       "      <td>100.000000</td>\n",
       "      <td>100.000000</td>\n",
       "      <td>100.000000</td>\n",
       "      <td>100.000000</td>\n",
       "      <td>100.000000</td>\n",
       "    </tr>\n",
       "    <tr>\n",
       "      <th>1973/1974</th>\n",
       "      <td>100.000000</td>\n",
       "      <td>100.000000</td>\n",
       "      <td>100.000000</td>\n",
       "      <td>100.000000</td>\n",
       "      <td>100.000000</td>\n",
       "    </tr>\n",
       "    <tr>\n",
       "      <th>1974/1975</th>\n",
       "      <td>100.000000</td>\n",
       "      <td>100.000000</td>\n",
       "      <td>100.000000</td>\n",
       "      <td>100.000000</td>\n",
       "      <td>100.000000</td>\n",
       "    </tr>\n",
       "  </tbody>\n",
       "</table>\n",
       "</div>"
      ],
      "text/plain": [
       "Station              ALAJAR     ARACENA   CORTEGANA    GALAROZA      JABUGO\n",
       "Hidrologic Year                                                            \n",
       "1970/1971         74.794521   74.794521   74.794521   74.794521   74.794521\n",
       "1971/1972        100.000000  100.000000  100.000000  100.000000  100.000000\n",
       "1972/1973        100.000000  100.000000  100.000000  100.000000  100.000000\n",
       "1973/1974        100.000000  100.000000  100.000000  100.000000  100.000000\n",
       "1974/1975        100.000000  100.000000  100.000000  100.000000  100.000000"
      ]
     },
     "execution_count": 7,
     "metadata": {},
     "output_type": "execute_result"
    }
   ],
   "source": [
    "result = data.pivot(index=\"Hidrologic Year\", columns=\"Station\", values=\"Year Collected Data (Percentage)\")\n",
    "result.head()"
   ]
  },
  {
   "cell_type": "code",
   "execution_count": 8,
   "id": "0c49c820",
   "metadata": {},
   "outputs": [
    {
     "data": {
      "text/plain": [
       "array([[ 936.3,  500.5,  814.6,  719.5,  756.3],\n",
       "       [1151.4,  904.5, 1036.3, 1057. ,  988.5],\n",
       "       [1214.3, 1042. , 1266. , 1105.5, 1002.2],\n",
       "       [1024.3,  905.5,  930.1,  749.9,  868.2],\n",
       "       [ 999.6,  725.5,  933.9,  825.5,  803.9],\n",
       "       [ 873.7,  750. ,  883.7,  915. ,  806.9],\n",
       "       [1503.3, 1199.5, 1356.2, 1078.5, 1316.9],\n",
       "       [1692.9, 1426. , 1708.8, 1526. , 1698.7],\n",
       "       [1718.5, 1232. , 1469.1, 1350.5, 1499.4],\n",
       "       [ 834.3,  671. ,  836. ,  796. ,  699.6],\n",
       "       [ 546.4,  475. ,  616.4,  554.5,  531.3],\n",
       "       [1016.8,  640. ,  883.9,  788.1,  893.5],\n",
       "       [ 643.5,  431. ,  532.7,  587. ,  557.1],\n",
       "       [1144.5, 1021. , 1167.9,  986.5,  983.4],\n",
       "       [1298.1,  920. , 1135.1, 1087.6, 1134.7],\n",
       "       [1087.5,  839. ,  825.4,  857.7,  850.3],\n",
       "       [1135.1,  815. , 1089.4, 1087. , 1009.2],\n",
       "       [1466.6, 1313. , 1396.2, 1278.6, 1148.1],\n",
       "       [1016.2,  895. ,  932. ,  988.4,  894.5],\n",
       "       [1602.4, 1475. , 1495. , 1226.1, 1498. ],\n",
       "       [1077.5,  962. ,  871.7,  830.2,  944.2],\n",
       "       [ 676.3,  644. ,  549.1,  484.8,  499.4],\n",
       "       [ 634.1,  566. ,  545.3,  581.9,  573.4],\n",
       "       [1117.7,  920. , 1144.1, 1032.3, 1033.9],\n",
       "       [ 713.7,  626. ,  517.9,  526.2,  548.2],\n",
       "       [1966. , 1617.2, 1739.6, 1550.5, 1715.4],\n",
       "       [1649.7, 1341. , 1410.6, 1283.2, 1291.5],\n",
       "       [1826.2, 1380. , 1472.5, 1458. , 1386.2],\n",
       "       [ 551.3,  377. ,  531.4,  449.6,  438.2],\n",
       "       [1096.7,  201. ,  937.1,  893. ,  902.2],\n",
       "       [2093.4,    0. , 1644.9, 1370. , 1456.2],\n",
       "       [1319.7,    0. , 1046.6, 1023.5, 1029.2],\n",
       "       [1368.1,    0. ,  857.4, 1077.5, 1045. ],\n",
       "       [1082.4,    0. , 1036.6, 1042.5,  327.9],\n",
       "       [ 411.1,    0. ,  227.4,  434.5,  174.3],\n",
       "       [ 903.5,    0. ,  876.8,  760. ,  811.8],\n",
       "       [1215. ,    0. , 1325.8, 1107. , 1151.7],\n",
       "       [ 918.1,    0. ,  892.8,  746. ,  798.3],\n",
       "       [ 588.6,    0. ,  539.6,  292. ,  559. ],\n",
       "       [1098.1,    0. , 1572.5, 1398.5, 1480.2],\n",
       "       [1320.3,    0. , 1285.3, 1349. , 1318. ],\n",
       "       [ 556.2,    0. ,  648.4,  551. ,  238.9],\n",
       "       [1342. ,    0. , 1240.3, 1227.5,  869.9],\n",
       "       [1062.9,    0. , 1149. , 1030. , 1009.9],\n",
       "       [ 886.6,    0. ,  643.1,  794.5,  820.5],\n",
       "       [1118.3,    0. , 1164.6,  337.5,  945.6],\n",
       "       [ 985.4,    0. ,  792.7,    0. ,  729.6],\n",
       "       [1157.9,    0. , 1084.4,    0. , 1060.8],\n",
       "       [   0. ,    0. ,  297.8,    0. ,  256.7]])"
      ]
     },
     "execution_count": 8,
     "metadata": {},
     "output_type": "execute_result"
    }
   ],
   "source": [
    "data2 = data.pivot(index=\"Hidrologic Year\", columns=\"Station\", values=\"Sum of the Year\")\n",
    "labels = data2.values\n",
    "labels"
   ]
  },
  {
   "cell_type": "code",
   "execution_count": 14,
   "id": "fc85c2b1",
   "metadata": {},
   "outputs": [
    {
     "data": {
      "image/png": "[encoded data removed]",
      "text/plain": [
       "<Figure size 720x720 with 4 Axes>"
      ]
     },
     "metadata": {
      "needs_background": "light"
     },
     "output_type": "display_data"
    }
   ],
   "source": [
    "g = sns.clustermap(result, annot=True, standard_scale=1, cmap='RdYlGn')"
   ]
  }
 ],
 "metadata": {
  "kernelspec": {
   "display_name": "Python 3 (ipykernel)",
   "language": "python",
   "name": "python3"
  },
  "language_info": {
   "codemirror_mode": {
    "name": "ipython",
    "version": 3
   },
   "file_extension": ".py",
   "mimetype": "text/x-python",
   "name": "python",
   "nbconvert_exporter": "python",
   "pygments_lexer": "ipython3",
   "version": "3.8.11"
  }
 },
 "nbformat": 4,
 "nbformat_minor": 5
}
